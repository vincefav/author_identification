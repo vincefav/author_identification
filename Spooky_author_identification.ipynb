{
 "cells": [
  {
   "cell_type": "code",
   "execution_count": 1,
   "metadata": {
    "collapsed": true
   },
   "outputs": [],
   "source": [
    "import pandas as pd\n",
    "import numpy as np\n",
    "from sklearn.model_selection import cross_val_score, GridSearchCV, KFold\n",
    "kf = KFold(n_splits=3, shuffle=True)\n",
    "\n",
    "from sklearn.pipeline import Pipeline\n",
    "from sklearn.feature_extraction.text import TfidfVectorizer\n",
    "from sklearn.naive_bayes import MultinomialNB"
   ]
  },
  {
   "cell_type": "code",
   "execution_count": 5,
   "metadata": {
    "collapsed": false
   },
   "outputs": [],
   "source": [
    "train = pd.read_csv('train.csv')\n",
    "test = pd.read_csv('test.csv')\n",
    "combi = pd.concat([train.drop('author', axis=1), test], axis=0)\n",
    "\n",
    "train = train.sample(frac=1.0) # shuffle\n",
    "\n",
    "x = train.text\n",
    "y = train.author"
   ]
  },
  {
   "cell_type": "code",
   "execution_count": 11,
   "metadata": {
    "collapsed": false
   },
   "outputs": [
    {
     "name": "stdout",
     "output_type": "stream",
     "text": [
      "Mean score: 0.337402681485\n",
      "Std Dev:    0.00756760360172\n"
     ]
    }
   ],
   "source": [
    "from sklearn.dummy import DummyClassifier\n",
    "\n",
    "dum = Pipeline([\n",
    "    ('tfidf', TfidfVectorizer()),\n",
    "    ('classify', DummyClassifier())])\n",
    "\n",
    "cv = cross_val_score(dum, x, y, cv=4, scoring='accuracy')\n",
    "\n",
    "print('Mean score:', cv.mean())\n",
    "print('Std Dev:   ', cv.std())"
   ]
  },
  {
   "cell_type": "code",
   "execution_count": 6,
   "metadata": {
    "collapsed": false
   },
   "outputs": [
    {
     "name": "stdout",
     "output_type": "stream",
     "text": [
      "Pipeline(memory=None,\n",
      "     steps=[('tfidf', TfidfVectorizer(analyzer='word', binary=False, decode_error='strict',\n",
      "        dtype=<class 'numpy.int64'>, encoding='utf-8', input='content',\n",
      "        lowercase=True, max_df=0.089999999999999997, max_features=None,\n",
      "        min_df=2, ngram_range=(1, 2), norm='l2', preprocessor=None,\n",
      " ...f=True, vocabulary=None)), ('classify', MultinomialNB(alpha=0.1, class_prior=None, fit_prior=True))])\n",
      "Mean score: 0.851422370809\n",
      "Std Dev:    0.00198274978384\n"
     ]
    }
   ],
   "source": [
    "pl = Pipeline([\n",
    "    ('tfidf', TfidfVectorizer()),\n",
    "    ('classify', MultinomialNB())\n",
    "])\n",
    "\n",
    "param_grid = [\n",
    "    {\n",
    "        'tfidf__max_df': np.arange(.01,.10,.01),\n",
    "        'tfidf__min_df': [2,3,4],\n",
    "        'tfidf__ngram_range': [(1,2)],\n",
    "        'tfidf__norm': ['l2'],\n",
    "        'classify__alpha': [.001, .01, .1],\n",
    "    },\n",
    "]\n",
    "\n",
    "grid =\\\n",
    "GridSearchCV(pl, cv=3, n_jobs=-1, param_grid=param_grid, scoring='accuracy')\\\n",
    ".fit(x, y)\n",
    "\n",
    "model = grid.best_estimator_\n",
    "print(model)\n",
    "cv = cross_val_score(model, x, y, cv=4, scoring='accuracy')\n",
    "\n",
    "print('Mean score:', cv.mean())\n",
    "print('Std Dev:   ', cv.std())"
   ]
  }
 ],
 "metadata": {
  "kernelspec": {
   "display_name": "Python 3",
   "language": "python",
   "name": "python3"
  },
  "language_info": {
   "codemirror_mode": {
    "name": "ipython",
    "version": 3
   },
   "file_extension": ".py",
   "mimetype": "text/x-python",
   "name": "python",
   "nbconvert_exporter": "python",
   "pygments_lexer": "ipython3",
   "version": "3.6.0"
  }
 },
 "nbformat": 4,
 "nbformat_minor": 2
}
